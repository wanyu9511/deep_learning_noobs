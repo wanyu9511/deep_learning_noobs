{
  "nbformat": 4,
  "nbformat_minor": 0,
  "metadata": {
    "colab": {
      "name": "deep_learning_noobs.ipynb",
      "version": "0.3.2",
      "provenance": [],
      "collapsed_sections": []
    },
    "kernelspec": {
      "name": "python3",
      "display_name": "Python 3"
    },
    "accelerator": "GPU"
  },
  "cells": [
    {
      "metadata": {
        "id": "A-o3hL8PetC0",
        "colab_type": "text"
      },
      "cell_type": "markdown",
      "source": [
        "0.   To get Google Colab ready to use, \n",
        "\n",
        "> *   Create a exclusive folder on your Google Drive, name it \"GoogleColab' for example,\n",
        "*  Go to /GoogleColab, create a new notebook via Right Click > More > Colabratory,\n",
        "*  Open the notebook, go to Runtime > Change runtime type. Pick your preferred version of python, (either one works fine with this notebook), and set the Hardware accelerator to GPU (You dont wanna do DL with CPU, do you?), \n",
        "*  Run the following basic python code just for fun.\n",
        "\n",
        "\n",
        "\n",
        "\n",
        "\n",
        "\n",
        "\n",
        "\n",
        "\n",
        "\n"
      ]
    },
    {
      "metadata": {
        "id": "PvG42Thnhdtf",
        "colab_type": "code",
        "outputId": "5b1af204-1c3c-48e6-e348-6246063e100e",
        "colab": {
          "base_uri": "https://localhost:8080/",
          "height": 68
        }
      },
      "cell_type": "code",
      "source": [
        "x = 3\n",
        "print(type(x))\n",
        "print(x)\n",
        "print(x**2)"
      ],
      "execution_count": 0,
      "outputs": [
        {
          "output_type": "stream",
          "text": [
            "<class 'int'>\n",
            "3\n",
            "9\n"
          ],
          "name": "stdout"
        }
      ]
    },
    {
      "metadata": {
        "id": "eafTRku6CrcL",
        "colab_type": "text"
      },
      "cell_type": "markdown",
      "source": [
        "1. Run the following code block, and follow the prompts to mount your google drive.You'll see something like this,\n",
        "\n",
        "        Go to this URL in a browser: {https://accounts.google.com/xxx_some_link_xxx}\n",
        "        Enter your authorization code:|_________|\n",
        "\n",
        "    Click the link, copy verification code ,and paste it to text box."
      ]
    },
    {
      "metadata": {
        "id": "9it7hkvdEbrT",
        "colab_type": "code",
        "outputId": "af6f6a55-2fc0-41fb-e693-2eed76086deb",
        "colab": {
          "base_uri": "https://localhost:8080/",
          "height": 34
        }
      },
      "cell_type": "code",
      "source": [
        "from google.colab import drive\n",
        "drive.mount('/content/drive/')"
      ],
      "execution_count": 0,
      "outputs": [
        {
          "output_type": "stream",
          "text": [
            "Drive already mounted at /content/drive/; to attempt to forcibly remount, call drive.mount(\"/content/drive/\", force_remount=True).\n"
          ],
          "name": "stdout"
        }
      ]
    },
    {
      "metadata": {
        "id": "isPmMiIpGslV",
        "colab_type": "text"
      },
      "cell_type": "markdown",
      "source": [
        "2. Verify that your google drive is properly mounted."
      ]
    },
    {
      "metadata": {
        "id": "b-bQ7DBNE3WZ",
        "colab_type": "code",
        "outputId": "2d308bc6-385f-42cf-e45d-43115d5b5918",
        "colab": {
          "base_uri": "https://localhost:8080/",
          "height": 221
        }
      },
      "cell_type": "code",
      "source": [
        "!ls -alhF /content/drive/My\\ Drive/"
      ],
      "execution_count": 0,
      "outputs": [
        {
          "output_type": "stream",
          "text": [
            "total 953K\n",
            "dr-x------ 3 root root 4.0K Feb 26  2018 '2XX 2018'/\n",
            "drwx------ 3 root root 4.0K Oct 14 21:08  3XX/\n",
            "drwx------ 3 root root 4.0K Jun 20 17:12  4XX/\n",
            "drwx------ 2 root root 4.0K Jan 29  2017  CISC458/\n",
            "dr-x------ 5 root root 4.0K Sep 20 02:33 'ECE 18 Drive'/\n",
            "drwx------ 2 root root 4.0K Apr  2  2018  GoogleColab/\n",
            "drwx------ 2 root root 4.0K Apr  2  2018  keras-master/\n",
            "drwx------ 2 root root 4.0K Aug 24  2016  Outlook/\n",
            "-rw------- 1 root root    1 Mar  9  2015 'Personal Statement_Yu Wan_7505354.gdoc'\n",
            "-rw------- 1 root root 920K Mar 27  2015 'Progress Report-24.docx'\n",
            "-rw------- 1 root root    1 Mar 27  2015 'Progress Report-24.docx.gdoc'\n"
          ],
          "name": "stdout"
        }
      ]
    },
    {
      "metadata": {
        "id": "4M-Yw2PIIVFF",
        "colab_type": "text"
      },
      "cell_type": "markdown",
      "source": [
        "3. Install Keras."
      ]
    },
    {
      "metadata": {
        "id": "1vPV8ep0XqsD",
        "colab_type": "code",
        "outputId": "5b9b9e61-4bec-4834-e495-0a8cc621a323",
        "colab": {
          "base_uri": "https://localhost:8080/",
          "height": 68
        }
      },
      "cell_type": "code",
      "source": [
        "!pip install -q keras\n",
        "!pip list installed | grep -i keras"
      ],
      "execution_count": 0,
      "outputs": [
        {
          "output_type": "stream",
          "text": [
            "Keras                    2.1.6     \n",
            "Keras-Applications       1.0.6     \n",
            "Keras-Preprocessing      1.0.5     \n"
          ],
          "name": "stdout"
        }
      ]
    },
    {
      "metadata": {
        "id": "GPSd7ynSInIA",
        "colab_type": "text"
      },
      "cell_type": "markdown",
      "source": [
        "4. Upload[ mnist_cnn.py](https://github.com/keras-team/keras/blob/master/examples/mnist_cnn.py) to one of your google drive folders. (e.g. GoogleColab)."
      ]
    },
    {
      "metadata": {
        "id": "FpesICcF5wIC",
        "colab_type": "code",
        "outputId": "2b247869-4f48-4e77-e9ca-b07a6a25437e",
        "colab": {
          "base_uri": "https://localhost:8080/",
          "height": 34
        }
      },
      "cell_type": "code",
      "source": [
        "!ls -lh /content/drive/My\\ Drive/GoogleColab/mnist_cnn.py"
      ],
      "execution_count": 0,
      "outputs": [
        {
          "output_type": "stream",
          "text": [
            "-rw------- 1 root root 2.8K Jul 11 06:34 '/content/drive/My Drive/GoogleColab/mnist_cnn.py'\n"
          ],
          "name": "stdout"
        }
      ]
    },
    {
      "metadata": {
        "id": "YVWZztBZJekw",
        "colab_type": "text"
      },
      "cell_type": "markdown",
      "source": [
        "5. Run the following code to train a simple mnist_cnn model. (Highly recommend using TF backend, much faster)."
      ]
    },
    {
      "metadata": {
        "id": "BV5DSGxPXv3L",
        "colab_type": "code",
        "outputId": "3f4cb87a-8f4e-4088-a6b3-685f0cf02789",
        "colab": {
          "base_uri": "https://localhost:8080/",
          "height": 802
        }
      },
      "cell_type": "code",
      "source": [
        "!python /content/drive/My\\ Drive/GoogleColab/mnist_cnn.py"
      ],
      "execution_count": 0,
      "outputs": [
        {
          "output_type": "stream",
          "text": [
            "Using TensorFlow backend.\n",
            "x_train shape: (60000, 28, 28, 1)\n",
            "60000 train samples\n",
            "10000 test samples\n",
            "_________________________________________________________________\n",
            "Layer (type)                 Output Shape              Param #   \n",
            "=================================================================\n",
            "conv2d_1 (Conv2D)            (None, 26, 26, 32)        320       \n",
            "_________________________________________________________________\n",
            "conv2d_2 (Conv2D)            (None, 24, 24, 64)        18496     \n",
            "_________________________________________________________________\n",
            "max_pooling2d_1 (MaxPooling2 (None, 12, 12, 64)        0         \n",
            "_________________________________________________________________\n",
            "dropout_1 (Dropout)          (None, 12, 12, 64)        0         \n",
            "_________________________________________________________________\n",
            "flatten_1 (Flatten)          (None, 9216)              0         \n",
            "_________________________________________________________________\n",
            "dense_1 (Dense)              (None, 128)               1179776   \n",
            "_________________________________________________________________\n",
            "dropout_2 (Dropout)          (None, 128)               0         \n",
            "_________________________________________________________________\n",
            "dense_2 (Dense)              (None, 10)                1290      \n",
            "=================================================================\n",
            "Total params: 1,199,882\n",
            "Trainable params: 1,199,882\n",
            "Non-trainable params: 0\n",
            "_________________________________________________________________\n",
            "Train on 60000 samples, validate on 10000 samples\n",
            "Epoch 1/2\n",
            "2018-11-05 02:15:56.519058: I tensorflow/stream_executor/cuda/cuda_gpu_executor.cc:964] successful NUMA node read from SysFS had negative value (-1), but there must be at least one NUMA node, so returning NUMA node zero\n",
            "2018-11-05 02:15:56.519603: I tensorflow/core/common_runtime/gpu/gpu_device.cc:1432] Found device 0 with properties: \n",
            "name: Tesla K80 major: 3 minor: 7 memoryClockRate(GHz): 0.8235\n",
            "pciBusID: 0000:00:04.0\n",
            "totalMemory: 11.17GiB freeMemory: 11.10GiB\n",
            "2018-11-05 02:15:56.519657: I tensorflow/core/common_runtime/gpu/gpu_device.cc:1511] Adding visible gpu devices: 0\n",
            "2018-11-05 02:15:56.989111: I tensorflow/core/common_runtime/gpu/gpu_device.cc:982] Device interconnect StreamExecutor with strength 1 edge matrix:\n",
            "2018-11-05 02:15:56.989202: I tensorflow/core/common_runtime/gpu/gpu_device.cc:988]      0 \n",
            "2018-11-05 02:15:56.989236: I tensorflow/core/common_runtime/gpu/gpu_device.cc:1001] 0:   N \n",
            "2018-11-05 02:15:56.989567: W tensorflow/core/common_runtime/gpu/gpu_bfc_allocator.cc:42] Overriding allow_growth setting because the TF_FORCE_GPU_ALLOW_GROWTH environment variable is set. Original config value was 0.\n",
            "2018-11-05 02:15:56.989659: I tensorflow/core/common_runtime/gpu/gpu_device.cc:1115] Created TensorFlow device (/job:localhost/replica:0/task:0/device:GPU:0 with 10758 MB memory) -> physical GPU (device: 0, name: Tesla K80, pci bus id: 0000:00:04.0, compute capability: 3.7)\n",
            "60000/60000 [==============================] - 12s 196us/step - loss: 0.2738 - acc: 0.9168 - val_loss: 0.0588 - val_acc: 0.9805\n",
            "Epoch 2/2\n",
            "60000/60000 [==============================] - 9s 156us/step - loss: 0.0907 - acc: 0.9731 - val_loss: 0.0426 - val_acc: 0.9852\n",
            "Test loss: 0.04260448458371684\n",
            "Test accuracy: 0.9852\n"
          ],
          "name": "stdout"
        }
      ]
    },
    {
      "metadata": {
        "id": "9zim7Sq6Znaw",
        "colab_type": "text"
      },
      "cell_type": "markdown",
      "source": [
        "Note: If you would like to change the Keras backend, for example, from Theano to TF, you may\n",
        "1. Modify `~/.keras/keras.json`, OR\n",
        "2. Run the following python code"
      ]
    },
    {
      "metadata": {
        "id": "xI-rnrxCZV5p",
        "colab_type": "code",
        "outputId": "135e663d-ef4a-4e09-c982-6330067d36fc",
        "colab": {
          "base_uri": "https://localhost:8080/",
          "height": 34
        }
      },
      "cell_type": "code",
      "source": [
        "from keras import backend as K\n",
        "import os\n",
        "\n",
        "def set_keras_backend(backend):\n",
        "\n",
        "    if K.backend() != backend:\n",
        "        os.environ['KERAS_BACKEND'] = backend\n",
        "        reload(K)\n",
        "        assert K.backend() == backend\n",
        "\n",
        "set_keras_backend(\"tensorflow\")    # or set_keras_backend(\"theano\")"
      ],
      "execution_count": 0,
      "outputs": [
        {
          "output_type": "stream",
          "text": [
            "Using TensorFlow backend.\n"
          ],
          "name": "stderr"
        }
      ]
    },
    {
      "metadata": {
        "id": "tG248JO5LSqm",
        "colab_type": "text"
      },
      "cell_type": "markdown",
      "source": [
        "**Code breakdown for `mnist_cnn.py` (with extra result-visualization capability)**\n",
        "\n",
        "\n",
        "1.   Import required libraries. Note `matplotlib.pyplot` was not in the original `mnist_cnn.py`, it's added for the visualization capability."
      ]
    },
    {
      "metadata": {
        "id": "dfUnSg5aA47j",
        "colab_type": "code",
        "colab": {}
      },
      "cell_type": "code",
      "source": [
        "from __future__ import print_function\n",
        "import keras\n",
        "from keras.datasets import mnist\n",
        "from keras.models import Sequential\n",
        "from keras.layers import Dense, Dropout, Flatten\n",
        "from keras.layers import Conv2D, MaxPooling2D\n",
        "from keras import backend as K\n",
        "\n",
        "%matplotlib inline\n",
        "import matplotlib.pyplot as plt"
      ],
      "execution_count": 0,
      "outputs": []
    },
    {
      "metadata": {
        "id": "I4WhdPcHO2Sx",
        "colab_type": "text"
      },
      "cell_type": "markdown",
      "source": [
        "2.   Training parameters, you may experiment with different `batch_size` and `epochs` ."
      ]
    },
    {
      "metadata": {
        "id": "D6MaSxRbBIJC",
        "colab_type": "code",
        "colab": {}
      },
      "cell_type": "code",
      "source": [
        "batch_size = 128\n",
        "num_classes = 10\n",
        "epochs = 12"
      ],
      "execution_count": 0,
      "outputs": []
    },
    {
      "metadata": {
        "id": "j8QmFUfhQHQw",
        "colab_type": "text"
      },
      "cell_type": "markdown",
      "source": [
        "3.   Process the dataset (load, split, reshape, etc.)"
      ]
    },
    {
      "metadata": {
        "id": "rsTWo3YBP8ys",
        "colab_type": "code",
        "outputId": "562688bc-cbaf-424b-bf61-e89d555fa6ba",
        "colab": {
          "base_uri": "https://localhost:8080/",
          "height": 68
        }
      },
      "cell_type": "code",
      "source": [
        "# input image dimensions\n",
        "img_rows, img_cols = 28, 28\n",
        "\n",
        "# the data, split between train and test sets\n",
        "(x_train, y_train), (x_test, y_test) = mnist.load_data()\n",
        "\n",
        "if K.image_data_format() == 'channels_first':\n",
        "    x_train = x_train.reshape(x_train.shape[0], 1, img_rows, img_cols)\n",
        "    x_test = x_test.reshape(x_test.shape[0], 1, img_rows, img_cols)\n",
        "    input_shape = (1, img_rows, img_cols)\n",
        "else:\n",
        "    x_train = x_train.reshape(x_train.shape[0], img_rows, img_cols, 1)\n",
        "    x_test = x_test.reshape(x_test.shape[0], img_rows, img_cols, 1)\n",
        "    input_shape = (img_rows, img_cols, 1)\n",
        "\n",
        "x_train = x_train.astype('float32')\n",
        "x_test = x_test.astype('float32')\n",
        "x_train /= 255\n",
        "x_test /= 255\n",
        "print('x_train shape:', x_train.shape)\n",
        "print(x_train.shape[0], 'train samples')\n",
        "print(x_test.shape[0], 'test samples')\n",
        "\n",
        "# convert class vectors to binary class matrices\n",
        "y_train = keras.utils.to_categorical(y_train, num_classes)\n",
        "y_test = keras.utils.to_categorical(y_test, num_classes)"
      ],
      "execution_count": 0,
      "outputs": [
        {
          "output_type": "stream",
          "text": [
            "x_train shape: (60000, 28, 28, 1)\n",
            "60000 train samples\n",
            "10000 test samples\n"
          ],
          "name": "stdout"
        }
      ]
    },
    {
      "metadata": {
        "id": "yvHVGHzLRAsm",
        "colab_type": "text"
      },
      "cell_type": "markdown",
      "source": [
        "4.   Construct the convolutional neural network\n",
        "\n"
      ]
    },
    {
      "metadata": {
        "id": "2G8x4whfRALm",
        "colab_type": "code",
        "outputId": "c1a5219d-15d4-484e-893b-9b6c61052c77",
        "colab": {
          "base_uri": "https://localhost:8080/",
          "height": 408
        }
      },
      "cell_type": "code",
      "source": [
        "model = Sequential()\n",
        "model.add(Conv2D(32, kernel_size=(3, 3),\n",
        "                 activation='relu',\n",
        "                 input_shape=input_shape))\n",
        "model.add(Conv2D(64, (3, 3), activation='relu'))\n",
        "model.add(MaxPooling2D(pool_size=(2, 2)))\n",
        "model.add(Dropout(0.25))\n",
        "model.add(Flatten())\n",
        "model.add(Dense(128, activation='relu'))\n",
        "model.add(Dropout(0.5))\n",
        "model.add(Dense(num_classes, activation='softmax'))\n",
        "\n",
        "model.summary()"
      ],
      "execution_count": 0,
      "outputs": [
        {
          "output_type": "stream",
          "text": [
            "_________________________________________________________________\n",
            "Layer (type)                 Output Shape              Param #   \n",
            "=================================================================\n",
            "conv2d_1 (Conv2D)            (None, 26, 26, 32)        320       \n",
            "_________________________________________________________________\n",
            "conv2d_2 (Conv2D)            (None, 24, 24, 64)        18496     \n",
            "_________________________________________________________________\n",
            "max_pooling2d_1 (MaxPooling2 (None, 12, 12, 64)        0         \n",
            "_________________________________________________________________\n",
            "dropout_1 (Dropout)          (None, 12, 12, 64)        0         \n",
            "_________________________________________________________________\n",
            "flatten_1 (Flatten)          (None, 9216)              0         \n",
            "_________________________________________________________________\n",
            "dense_1 (Dense)              (None, 128)               1179776   \n",
            "_________________________________________________________________\n",
            "dropout_2 (Dropout)          (None, 128)               0         \n",
            "_________________________________________________________________\n",
            "dense_2 (Dense)              (None, 10)                1290      \n",
            "=================================================================\n",
            "Total params: 1,199,882\n",
            "Trainable params: 1,199,882\n",
            "Non-trainable params: 0\n",
            "_________________________________________________________________\n"
          ],
          "name": "stdout"
        }
      ]
    },
    {
      "metadata": {
        "id": "O9hBoxazRbVF",
        "colab_type": "text"
      },
      "cell_type": "markdown",
      "source": [
        "5.   Compile and train the CNN model."
      ]
    },
    {
      "metadata": {
        "id": "vW1OVqtVRYZU",
        "colab_type": "code",
        "outputId": "1c244e1d-b63b-4d72-9c43-a996086fb795",
        "colab": {
          "base_uri": "https://localhost:8080/",
          "height": 479
        }
      },
      "cell_type": "code",
      "source": [
        "model.compile(loss=keras.losses.categorical_crossentropy,\n",
        "              optimizer=keras.optimizers.Adadelta(),\n",
        "              metrics=['accuracy'])\n",
        "\n",
        "model.fit(x_train, y_train,\n",
        "          batch_size=batch_size,\n",
        "          epochs=epochs,\n",
        "          verbose=1,\n",
        "          validation_data=(x_test, y_test))"
      ],
      "execution_count": 0,
      "outputs": [
        {
          "output_type": "stream",
          "text": [
            "Train on 60000 samples, validate on 10000 samples\n",
            "Epoch 1/12\n",
            "60000/60000 [==============================] - 12s 202us/step - loss: 0.2614 - acc: 0.9185 - val_loss: 0.0548 - val_acc: 0.9814\n",
            "Epoch 2/12\n",
            "60000/60000 [==============================] - 10s 168us/step - loss: 0.0946 - acc: 0.9718 - val_loss: 0.0445 - val_acc: 0.9835\n",
            "Epoch 3/12\n",
            "60000/60000 [==============================] - 10s 168us/step - loss: 0.0690 - acc: 0.9798 - val_loss: 0.0370 - val_acc: 0.9873\n",
            "Epoch 4/12\n",
            "60000/60000 [==============================] - 10s 172us/step - loss: 0.0565 - acc: 0.9838 - val_loss: 0.0331 - val_acc: 0.9893\n",
            "Epoch 5/12\n",
            "60000/60000 [==============================] - 11s 177us/step - loss: 0.0508 - acc: 0.9848 - val_loss: 0.0294 - val_acc: 0.9896\n",
            "Epoch 6/12\n",
            "60000/60000 [==============================] - 10s 170us/step - loss: 0.0430 - acc: 0.9874 - val_loss: 0.0270 - val_acc: 0.9914\n",
            "Epoch 7/12\n",
            "60000/60000 [==============================] - 10s 170us/step - loss: 0.0379 - acc: 0.9886 - val_loss: 0.0270 - val_acc: 0.9909\n",
            "Epoch 8/12\n",
            "60000/60000 [==============================] - 10s 170us/step - loss: 0.0361 - acc: 0.9886 - val_loss: 0.0278 - val_acc: 0.9900\n",
            "Epoch 9/12\n",
            "60000/60000 [==============================] - 10s 171us/step - loss: 0.0324 - acc: 0.9901 - val_loss: 0.0306 - val_acc: 0.9891\n",
            "Epoch 10/12\n",
            "60000/60000 [==============================] - 10s 170us/step - loss: 0.0299 - acc: 0.9908 - val_loss: 0.0303 - val_acc: 0.9909\n",
            "Epoch 11/12\n",
            "60000/60000 [==============================] - 10s 169us/step - loss: 0.0293 - acc: 0.9909 - val_loss: 0.0334 - val_acc: 0.9907\n",
            "Epoch 12/12\n",
            "60000/60000 [==============================] - 10s 168us/step - loss: 0.0269 - acc: 0.9916 - val_loss: 0.0332 - val_acc: 0.9906\n"
          ],
          "name": "stdout"
        },
        {
          "output_type": "execute_result",
          "data": {
            "text/plain": [
              "<keras.callbacks.History at 0x7fe1561e89b0>"
            ]
          },
          "metadata": {
            "tags": []
          },
          "execution_count": 12
        }
      ]
    },
    {
      "metadata": {
        "id": "sG7u5p5xRias",
        "colab_type": "text"
      },
      "cell_type": "markdown",
      "source": [
        "6.   Evaluate the CNN model."
      ]
    },
    {
      "metadata": {
        "id": "ilArSeXERaUP",
        "colab_type": "code",
        "outputId": "899365ce-a099-48be-f038-00080fb5386c",
        "colab": {
          "base_uri": "https://localhost:8080/",
          "height": 51
        }
      },
      "cell_type": "code",
      "source": [
        "score = model.evaluate(x_test, y_test, verbose=0)\n",
        "print('Test loss:', score[0])\n",
        "print('Test accuracy:', score[1])"
      ],
      "execution_count": 0,
      "outputs": [
        {
          "output_type": "stream",
          "text": [
            "Test loss: 0.03317832631648748\n",
            "Test accuracy: 0.9906\n"
          ],
          "name": "stdout"
        }
      ]
    },
    {
      "metadata": {
        "id": "7_6z9WYzRn_o",
        "colab_type": "text"
      },
      "cell_type": "markdown",
      "source": [
        "7.   Visualize the training result by plotting the first 36 images in the MNIST dataset."
      ]
    },
    {
      "metadata": {
        "id": "9AjR6xpNBJ8_",
        "colab_type": "code",
        "outputId": "4c690b83-8ba1-48f4-8056-530412e5128c",
        "colab": {
          "base_uri": "https://localhost:8080/",
          "height": 868
        }
      },
      "cell_type": "code",
      "source": [
        "# plot first 36 images in MNIST\n",
        "res = model.predict_classes(x_test[:36])\n",
        "fig, ax = plt.subplots(6, 6, figsize = (12, 12))\n",
        "fig.suptitle('First 36 images in test dataset')\n",
        "fig.tight_layout(pad = 0.3, rect = [0, 0, 0.9, 0.9])\n",
        "for x, y in [(i, j) for i in range(6) for j in range(6)]:\n",
        "    ax[x, y].imshow(x_test[x + y * 6].reshape((28, 28)), cmap = 'gray')\n",
        "    ax[x, y].set_title(\"Prediected: %d\" % res[x + y * 6])"
      ],
      "execution_count": 0,
      "outputs": [
        {
          "output_type": "display_data",
          "data": {
            "image/png": "[encoded data removed]",
            "text/plain": [
              "<matplotlib.figure.Figure at 0x7fe1558b46d8>"
            ]
          },
          "metadata": {
            "tags": []
          }
        }
      ]
    }
  ]
}
